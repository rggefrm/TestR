{
  "nbformat": 4,
  "nbformat_minor": 0,
  "metadata": {
    "colab": {
      "name": "Anonymize.ipynb",
      "provenance": [],
      "authorship_tag": "ABX9TyO0ENZdNzfDeZPLX2aRHCBo",
      "include_colab_link": true
    },
    "kernelspec": {
      "name": "ir",
      "display_name": "R"
    },
    "language_info": {
      "name": "R"
    }
  },
  "cells": [
    {
      "cell_type": "markdown",
      "metadata": {
        "id": "view-in-github",
        "colab_type": "text"
      },
      "source": [
        "<a href=\"https://colab.research.google.com/github/rggefrm/TestR/blob/master/Anonymize.ipynb\" target=\"_parent\"><img src=\"https://colab.research.google.com/assets/colab-badge.svg\" alt=\"Open In Colab\"/></a>"
      ]
    },
    {
      "cell_type": "markdown",
      "source": [
        "#Anonymisierung von Daten\n",
        "https://www.r-bloggers.com/2014/11/data-anonymization-in-r/\n",
        "\n",
        "##Dependencies\n",
        "\n",
        "\n",
        "\n",
        "```\n",
        "# This is formatted as code\n",
        "suppressPackageStartupMessages({\n",
        "  library(data.table)\n",
        "  library(digest)\n",
        "  library(knitr) # used only for post creation\n",
        "})\n",
        "```\n",
        "\n",
        "##Sample of survey data\n",
        "\n",
        "```\n",
        "# This is formatted as code\n",
        "# pretty print\n",
        "kable(head(SURV))\n",
        "```\n",
        "\n",
        "##Anonymize function\n",
        "\n",
        "Function will calculate hashes only for unique inputs and return vector of masked inputs.\n",
        "My version will use digest(x, algo=\"crc32\") because it fits better into html tables, algo crc32 is not really secure.\n",
        "Read ?digest::digest for supported algo, also consider to salt your input vector, e.g. x=paste0(\"prefix\",x,\"suffix\").\n",
        "Performance improvement possible using Rcpp / C: digest #2.\n",
        "\n",
        "\n",
        "\n",
        "```\n",
        "# This is formatted as code\n",
        "anonymize <- function(x, algo=\"crc32\"){\n",
        "  unq_hashes <- vapply(unique(x), function(object) digest(object, algo=algo), FUN.VALUE=\"\", USE.NAMES=TRUE)\n",
        "  unname(unq_hashes[x])\n",
        "}\n",
        "```\n",
        "##Anonymize survey data\n",
        "\n",
        "We will keep city and sex fields unmasked.\n",
        "\n",
        "\n",
        "\n",
        "```\n",
        "# This is formatted as code\n",
        "# choose columns to mask\n",
        "cols_to_mask <- c(\"name\",\"address\",\"postal_code\")\n",
        "# backup original data\n",
        "SURV_ORG <- copy(SURV)\n",
        "# anonymize\n",
        "SURV[,cols_to_mask := lapply(.SD, anonymize),.SDcols=cols_to_mask,with=FALSE]\n",
        "# pretty print\n",
        "kable(head(SURV))\n",
        "```\n",
        "\n",
        "\n",
        "\n",
        "\n"
      ],
      "metadata": {
        "id": "kCQ8RvHx8jMJ"
      }
    },
    {
      "cell_type": "code",
      "source": [
        ""
      ],
      "metadata": {
        "id": "Qlf-A1G0ISdB"
      },
      "execution_count": null,
      "outputs": []
    }
  ]
}