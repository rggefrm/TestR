{
  "nbformat": 4,
  "nbformat_minor": 0,
  "metadata": {
    "colab": {
      "name": "Code-Examples.ipynb",
      "provenance": [],
      "toc_visible": true,
      "authorship_tag": "ABX9TyNvp6oN1LCujS3gZ7yn6weo",
      "include_colab_link": true
    },
    "kernelspec": {
      "name": "ir",
      "display_name": "R"
    },
    "language_info": {
      "name": "R"
    }
  },
  "cells": [
    {
      "cell_type": "markdown",
      "metadata": {
        "id": "view-in-github",
        "colab_type": "text"
      },
      "source": [
        "<a href=\"https://colab.research.google.com/github/rggefrm/TestR/blob/master/Code_Examples.ipynb\" target=\"_parent\"><img src=\"https://colab.research.google.com/assets/colab-badge.svg\" alt=\"Open In Colab\"/></a>"
      ]
    },
    {
      "cell_type": "markdown",
      "source": [
        "#Count the frequency of a variable per column in R Dataframe\n",
        "Last Updated : 30 May, 2021\n",
        "A data frame may contain repeated or missing values. Each column may contain any number of duplicate or repeated instances of the same variable. Data statistics and analysis mostly rely on the task of computing the frequency or count of the number of instances a particular variable contains within each column. In this article, we are going to see how to find the frequency of a variable per column in Dataframe in R Programming Language\n",
        "https://www.geeksforgeeks.org/count-the-frequency-of-a-variable-per-column-in-r-dataframe/\n",
        "\n",
        "## Using sapply() method\n",
        "\n",
        "The sapply() method, which is used to compute the frequency of the occurrences of a variable within each column of the data frame. The sapply() method is used to apply functions over vectors or lists, and return outputs based on these computations. \n",
        "\n",
        "**sapply (df , FUN)**\n",
        "\n",
        "In this case, the FUN is a user-defined function that initially computed the number of levels within the entire data frame cells. This is done by the application of the unlist() methods which are used to convert a data frame into a nested list. This is followed by the application of unique() which extracts only the unique variable values contained in the data frame. \n",
        "\n",
        "**unique (list)**\n",
        "\n",
        "The vector obtained as an output of the unique() method is explicitly converted to a factor type object by the factor() method, where the levels are the unique values encountered. All the components are thus mapped to levels within this vector. \n",
        "\n",
        "**factor (vec)**\n",
        "\n",
        "In the end, the table() method is then applied. The table() method takes the cross-classifying factors belonging in a vector to build a contingency table of the counts at each combination of factor levels. A contingency table is basically a tabulation of the counts and/or percentages for multiple variables. It excludes the counting of any missing values from the factor variable supplied to the method. The output returned is in the form of a table. This method can be used to cross-tabulation and statistical analysis.\n",
        "\n",
        "**table (fac-vec, .. )**\n",
        "\n",
        "The output is a data frame with row headings as the unique values of the data frame and the column headings as the column names of the original data frame, where each cell value indicates the number of occurrences of that row heading variable in the respective column. "
      ],
      "metadata": {
        "id": "DwIIVRNmk1_3"
      }
    },
    {
      "cell_type": "code",
      "source": [
        "\n",
        "set.seed(1)  \n",
        "  \n",
        "# creating a data frame\n",
        "data_table <- data.frame(col1 =  sample(letters[1:3], 8,\n",
        "                                        replace = TRUE) ,\n",
        "                         col2 = sample(letters[1:3], 8,\n",
        "                                       replace = TRUE),\n",
        "                         col3 = sample(letters[1:3], 8,\n",
        "                                       replace = TRUE),\n",
        "                         col4 = sample(letters[1:3], 8,\n",
        "                                       replace = TRUE))"
      ],
      "metadata": {
        "id": "3UVz0uazkSQd"
      },
      "execution_count": 5,
      "outputs": []
    },
    {
      "cell_type": "code",
      "source": [
        "print (\"Original DataFrame\")\n",
        "print (data_table)\n",
        "  \n",
        "# compute unique levels in data frame\n",
        "lvls <- unique(unlist(data_table))\n",
        "  \n",
        "# apply the summation per value \n",
        "freq <- sapply(data_table, \n",
        "               function(x) table(factor(x, levels = lvls, \n",
        "                                        ordered = TRUE)))\n",
        "print (\"Count of variables per column\")\n",
        "print (freq)"
      ],
      "metadata": {
        "colab": {
          "base_uri": "https://localhost:8080/"
        },
        "id": "89CnJGb3klev",
        "outputId": "ba17a9fb-5ca4-432a-b043-4ffa664b2b2f"
      },
      "execution_count": 6,
      "outputs": [
        {
          "output_type": "stream",
          "name": "stdout",
          "text": [
            "[1] \"Original DataFrame\"\n",
            "  col1 col2 col3 col4\n",
            "1    a    b    b    a\n",
            "2    c    c    b    b\n",
            "3    a    c    c    a\n",
            "4    b    a    a    a\n",
            "5    a    a    c    b\n",
            "6    c    a    a    b\n",
            "7    c    b    a    b\n",
            "8    b    b    a    a\n",
            "[1] \"Count of variables per column\"\n",
            "  col1 col2 col3 col4\n",
            "a    3    3    4    4\n",
            "c    3    2    2    0\n",
            "b    2    3    2    4\n"
          ]
        }
      ]
    }
  ]
}